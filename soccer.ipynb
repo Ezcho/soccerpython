{
 "cells": [
  {
   "cell_type": "code",
   "execution_count": 2,
   "metadata": {},
   "outputs": [
    {
     "name": "stdout",
     "output_type": "stream",
     "text": [
      "pygame 2.5.2 (SDL 2.28.3, Python 3.9.13)\n",
      "Hello from the pygame community. https://www.pygame.org/contribute.html\n"
     ]
    }
   ],
   "source": [
    "import pygame\n",
    "import sys\n",
    "import time"
   ]
  },
  {
   "cell_type": "code",
   "execution_count": 21,
   "metadata": {},
   "outputs": [
    {
     "ename": "",
     "evalue": "",
     "output_type": "error",
     "traceback": [
      "\u001b[1;31m현재 셀 또는 이전 셀에서 코드를 실행하는 동안 Kernel이 충돌했습니다. \n",
      "\u001b[1;31m셀의 코드를 검토하여 가능한 오류 원인을 식별하세요. \n",
      "\u001b[1;31m자세한 내용을 보려면 <a href='https://aka.ms/vscodeJupyterKernelCrash'>여기</a>를 클릭하세요. \n",
      "\u001b[1;31m자세한 내용은 Jupyter <a href='command:jupyter.viewOutput'>로그</a>를 참조하세요."
     ]
    }
   ],
   "source": [
    "\n",
    "\n",
    "\n",
    "FPS = 60\n",
    "MAX_WIDTH = 1600\n",
    "MAX_HEIGHT = 900\n",
    "pygame.init()\n",
    "clock = pygame.time.Clock()\n",
    "screen = pygame.display.set_mode((MAX_WIDTH,MAX_HEIGHT))\n",
    "\n",
    "def main():\n",
    "    while True:\n",
    "        for event in pygame.event.get():\n",
    "            if event.type == pygame.QUIT:\n",
    "                pygame.quit()\n",
    "                sys.exit()\n",
    "            if event.type == pygame.KEYDOWN:\n",
    "                if event.key == pygame.K_SPACE:\n",
    "                    print(\"space\")\n",
    "        clock.tick(FPS)\n",
    "        screen.fill((255,255,255))\n",
    "        Physics.collisionCheck()\n",
    "        for p in Physics.objects:\n",
    "            p.draw()\n",
    "            \n",
    "            while p.dest != (p.x,p.y):\n",
    "                p.move(p.dest[0],p.dest[1])\n",
    "            \n",
    "        pygame.display.update()\n",
    "\n",
    "class Physics():\n",
    "    objects = []\n",
    "    def __init__(self,x,y,color,radius):\n",
    "        self.x = x\n",
    "        self.y = y\n",
    "        self.color = color\n",
    "        self.radius = radius\n",
    "        self.dest = (0,0)\n",
    "        Physics.objects.append(self)\n",
    "    def draw(self):\n",
    "        return pygame.draw.circle(screen, self.color, (self.x, self.y),self.radius)\n",
    "    def move(self,x,y):\n",
    "        self.x += x\n",
    "        self.y += y \n",
    "    def collisionCheck():\n",
    "        for p in Physics.objects:\n",
    "           for l in Physics.objects: \n",
    "                if p == l:\n",
    "                    continue\n",
    "                distance = (( p.x - l.x )**2 + ( p.y - l.y )**2 )**0.5\n",
    "                if distance < p.radius+l.radius:\n",
    "                    center = (p.x+(l.x - p.x)*p.radius/l.radius,p.y+(l.y - p.y)*p.radius/l.radius)\n",
    "                    #print(time.time(), p.name, p.x, l.name, l.x, 'center', center)\n",
    "                    p.move((p.x-center[0])/FPS*4,(p.y-center[1])/FPS*4)\n",
    "                    l.move((l.x-center[0])/FPS*4,(l.y-center[1])/FPS*4)\n",
    "\n",
    "class Player(Physics):\n",
    "    def __init__(self,x,y,color,radius,name):\n",
    "        super().__init__(x,y,color,radius)\n",
    "        self.name = name\n",
    "\n",
    "        \n",
    "class Goalkeeper(Physics):\n",
    "     def __init__(self,x,y,color,radius,name):\n",
    "        super().__init__(x,y,color,radius)\n",
    "        self.name = name\n",
    "        \n",
    "    \n",
    "   \n",
    "    \n",
    "    \n",
    "    \n",
    "player1 = Player(290,200,(0,0,255),20,'박지성')\n",
    "player2 = Player(300,200,(0,0,205),20,'호날두')\n",
    "player3 = Player(310,200,(0,0,155),20,'메시')\n",
    "ball = Physics(200,200,(0,0,0),5)\n",
    "goalkeeper1 = Goalkeeper(300,200,(0,255,0),25,'d')\n",
    "player1.dest = (1,2)\n",
    "\n",
    "if __name__ == '__main__':\n",
    "    main()\n",
    "\n",
    "\n",
    "        "
   ]
  },
  {
   "cell_type": "code",
   "execution_count": null,
   "metadata": {},
   "outputs": [],
   "source": [
    "\n",
    "\n",
    "\n",
    "\n"
   ]
  }
 ],
 "metadata": {
  "kernelspec": {
   "display_name": "Python 3",
   "language": "python",
   "name": "python3"
  },
  "language_info": {
   "codemirror_mode": {
    "name": "ipython",
    "version": 3
   },
   "file_extension": ".py",
   "mimetype": "text/x-python",
   "name": "python",
   "nbconvert_exporter": "python",
   "pygments_lexer": "ipython3",
   "version": "3.9.13"
  }
 },
 "nbformat": 4,
 "nbformat_minor": 2
}
