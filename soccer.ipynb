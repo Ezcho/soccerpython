{
 "cells": [
  {
   "cell_type": "code",
   "execution_count": 4,
   "metadata": {},
   "outputs": [],
   "source": [
    "import pygame\n",
    "import sys"
   ]
  },
  {
   "cell_type": "code",
   "execution_count": 19,
   "metadata": {},
   "outputs": [
    {
     "ename": "SystemExit",
     "evalue": "",
     "output_type": "error",
     "traceback": [
      "An exception has occurred, use %tb to see the full traceback.\n",
      "\u001b[1;31mSystemExit\u001b[0m\n"
     ]
    },
    {
     "name": "stderr",
     "output_type": "stream",
     "text": [
      "C:\\Users\\82108\\AppData\\Local\\Packages\\PythonSoftwareFoundation.Python.3.11_qbz5n2kfra8p0\\LocalCache\\local-packages\\Python311\\site-packages\\IPython\\core\\interactiveshell.py:3561: UserWarning: To exit: use 'exit', 'quit', or Ctrl-D.\n",
      "  warn(\"To exit: use 'exit', 'quit', or Ctrl-D.\", stacklevel=1)\n"
     ]
    }
   ],
   "source": [
    "\n",
    "\n",
    "\n",
    "FPS = 60\n",
    "MAX_WIDTH = 1600\n",
    "MAX_HEIGHT = 900\n",
    "pygame.init()\n",
    "clock = pygame.time.Clock()\n",
    "screen = pygame.display.set_mode((MAX_WIDTH,MAX_HEIGHT))\n",
    "\n",
    "def main():\n",
    "    while True:\n",
    "        for event in pygame.event.get():\n",
    "            if event.type == pygame.QUIT:\n",
    "                pygame.quit()\n",
    "                sys.exit()\n",
    "            if event.type == pygame.KEYDOWN:\n",
    "                if event.key == pygame.K_SPACE:\n",
    "                    print(\"space\")\n",
    "        clock.tick(FPS)\n",
    "        screen.fill((255,255,255))\n",
    "        Physics.collisionCheck()\n",
    "        for p in Physics.objects:\n",
    "            p.draw()\n",
    "        pygame.display.update()\n",
    "class Physics():\n",
    "    objects = []\n",
    "    def __init__(self,x,y,color,radius):\n",
    "        self.x = x\n",
    "        self.y = y\n",
    "        self.color = color\n",
    "        self.radius = radius\n",
    "        Physics.objects.append(self)\n",
    "    def draw(self):\n",
    "        return pygame.draw.circle(screen, self.color, (self.x, self.y),self.radius)\n",
    "    def move(self,x,y):\n",
    "        self.x += x\n",
    "        self.y += y \n",
    "    def collisionCheck():\n",
    "        for p in Physics.objects:\n",
    "           for l in Physics.objects: \n",
    "                if p == l:\n",
    "                    continue\n",
    "                distance = (( p.x - l.x )**2 + ( p.y - l.y )**2 )**0.5\n",
    "                if distance < p.radius+l.radius:\n",
    "                    center = (p.x+(p.x - l.x)*p.radius/l.radius,p.y+(p.y - l.y)*p.radius/l.radius)\n",
    "                    p.move((p.x-center[0])/FPS,(p.y-center[1])/FPS)\n",
    "                    l.move((l.x-center[0])/FPS,(l.y-center[1])/FPS)\n",
    "\n",
    "class Player(Physics):\n",
    "    def __init__(self,x,y,color,radius,name):\n",
    "        super().__init__(x,y,color,radius)\n",
    "        self.name = name\n",
    "        self.dest = (x,y)\n",
    "\n",
    "class Goalkeeper(Physics):\n",
    "     def __init__(self,x,y,color,radius,name):\n",
    "        super().__init__(x,y,color,radius)\n",
    "        self.name = name\n",
    "    \n",
    "   \n",
    "    \n",
    "    \n",
    "    \n",
    "player1 = Player(290,200,(0,0,255),20,'박지성')\n",
    "player2 = Player(300,200,(0,0,255),20,'호날두')\n",
    "player3 = Player(310,200,(0,0,255),20,'메시')\n",
    "ball = Physics(200,200,(0,0,0),5)\n",
    "\n",
    "if __name__ == '__main__':\n",
    "    main()\n",
    "\n",
    "\n",
    "        "
   ]
  },
  {
   "cell_type": "code",
   "execution_count": null,
   "metadata": {},
   "outputs": [],
   "source": [
    "#!pip install pygame\n",
    "\n",
    "\n",
    "\n",
    "\n",
    "\n"
   ]
  }
 ],
 "metadata": {
  "kernelspec": {
   "display_name": "Python 3",
   "language": "python",
   "name": "python3"
  },
  "language_info": {
   "codemirror_mode": {
    "name": "ipython",
    "version": 3
   },
   "file_extension": ".py",
   "mimetype": "text/x-python",
   "name": "python",
   "nbconvert_exporter": "python",
   "pygments_lexer": "ipython3",
   "version": "3.11.7"
  }
 },
 "nbformat": 4,
 "nbformat_minor": 2
}
